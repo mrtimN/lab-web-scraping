{
 "cells": [
  {
   "cell_type": "markdown",
   "id": "7e7a1ab8-2599-417d-9a65-25ef07f3a786",
   "metadata": {
    "id": "7e7a1ab8-2599-417d-9a65-25ef07f3a786"
   },
   "source": [
    "# Lab | Web Scraping"
   ]
  },
  {
   "cell_type": "markdown",
   "id": "ce8882fc-4815-4567-92fa-b4816358ba7d",
   "metadata": {
    "id": "ce8882fc-4815-4567-92fa-b4816358ba7d"
   },
   "source": [
    "Welcome to the IMDb Web Scraping Adventure Lab!\n",
    "\n",
    "**Objective**\n",
    "\n",
    "In this lab, we will embark on a mission to unearth valuable insights from the vast sea of data available on IMDb, one of the largest online databases of movie, TV, and celebrity information. As budding data scientists and business analysts, you have been tasked to scrape a specific subset of data from IMDb to assist film production companies in understanding the landscape of highly-rated movies in a defined time period. Your insights will potentially influence the making of the next netflix movie!\n",
    "\n",
    "**Background**\n",
    "\n",
    "In a world where data has become the new currency, businesses are leveraging big data to make informed decisions that drive success and profitability. The entertainment industry, being no exception, utilizes data analytics to comprehend market trends, audience preferences, and the performance of films based on various parameters such as director, genre, stars involved, etc. IMDb stands as a goldmine of such data, offering intricate details of almost every movie ever made.\n",
    "\n",
    "**Task**\n",
    "\n",
    "Your task is to create a Python script using `BeautifulSoup` and `pandas` to scrape IMDb movie data based on user ratings and release dates. This script should be able to filter movies with ratings above a certain threshold and within a specified date range.\n",
    "\n",
    "**Expected Outcome**\n",
    "\n",
    "- A function named `scrape_imdb` that takes four parameters: `title_type`,`user_rating`, `start_date`, and `end_date`.\n",
    "- The function should return a DataFrame with the following columns:\n",
    "  - **Movie Nr**: The number representing the movie’s position in the list.  xxxxxxxxxxx\n",
    "  - **Title**: The title of the movie.                     xxxxxxxxxxxxxxxxxxxxxx\n",
    "  - **Year**: The year the movie was released.           xxxxxxxxxxxxxxxxxxx\n",
    "  - **Rating**: The IMDb rating of the movie.            xxxxxxxxxxxxxxxxxxxx\n",
    "  - **Runtime (min)**: The duration of the movie in minutes.   xxxxxxxxxxxxxxxxx\n",
    "  - **Genre**: The genre of the movie.\n",
    "  - **Description**: A brief description of the movie.                  xxxxxxxxxxxxxx\n",
    "  - **Director**: The director of the movie.\n",
    "  - **Stars**: The main stars of the movie.\n",
    "  - **Votes**: The number of votes the movie received.          XXXXXXXXXXXXXXX\n",
    "  - **Gross ($M)**: The gross earnings of the movie in millions of USD.\n",
    "\n",
    "You will execute this script to scrape data for movies with the Title Type `Feature Film` that have a user rating of `7.5 and above` and were released between `January 1, 1990, and December 31, 1992`.\n",
    "\n",
    "Remember to experiment with different title types, dates and ratings to ensure your code is versatile and can handle various searches effectively!\n",
    "\n",
    "**Resources**\n",
    "\n",
    "- [Beautiful Soup Documentation](https://www.crummy.com/software/BeautifulSoup/bs4/doc/)\n",
    "- [Pandas Documentation](https://pandas.pydata.org/pandas-docs/stable/index.html)\n",
    "- [IMDb Advanced Search](https://www.imdb.com/search/title/)\n"
   ]
  },
  {
   "cell_type": "code",
   "execution_count": null,
   "id": "25901cbf-7833-40ca-8a04-043668cb0a67",
   "metadata": {},
   "outputs": [],
   "source": []
  },
  {
   "cell_type": "markdown",
   "id": "3519921d-5890-445b-9a33-934ed8ee378c",
   "metadata": {
    "id": "3519921d-5890-445b-9a33-934ed8ee378c"
   },
   "source": [
    "**Hint**\n",
    "\n",
    "Your first mission is to familiarize yourself with the IMDb advanced search page. Head over to [IMDb advanced search](https://www.imdb.com/search/title/) and input the following parameters, keeping all other fields to their default values or blank:\n",
    "\n",
    "- **Title Type**: Feature film\n",
    "- **Release date**: From 1990 to 1992 (Note: You don't need to specify the day and month)\n",
    "- **User Rating**: 7.5 to -\n",
    "\n",
    "Upon searching, you'll land on a page showcasing a list of movies, each displaying vital details such as the title, release year, and crew information. Your task is to scrape this treasure trove of data.\n",
    "\n",
    "Carefully examine the resulting URL and construct your own URL to include all the necessary parameters for filtering the movies."
   ]
  },
  {
   "cell_type": "markdown",
   "id": "25a83a0d-a742-49f6-985e-e27887cbf922",
   "metadata": {
    "id": "25a83a0d-a742-49f6-985e-e27887cbf922"
   },
   "source": [
    "\n",
    "---\n",
    "\n",
    "**Best of luck! Immerse yourself in the world of movies and may the data be with you!**"
   ]
  },
  {
   "cell_type": "markdown",
   "id": "7b75cf0d-9afa-4eec-a9e2-befeac68b2a0",
   "metadata": {
    "id": "7b75cf0d-9afa-4eec-a9e2-befeac68b2a0"
   },
   "source": [
    "**Important note**:\n",
    "\n",
    "In the fast-changing online world, websites often get updates and make changes. When you try this lab, the IMDb website might be different from what we expect.\n",
    "\n",
    "If you run into problems because of these changes, like new rules or things that stop you from getting data, don't worry! Instead, get creative.\n",
    "\n",
    "You can choose another website that interests you and is good for scraping data. Websites like Wikipedia or The New York Times are good options. The main goal is still the same: get useful data and learn how to scrape it from a website that you find interesting. It's a chance to practice your web scraping skills and explore a source of information you like."
   ]
  },
  {
   "cell_type": "code",
   "execution_count": 3,
   "id": "5cf47f17",
   "metadata": {},
   "outputs": [],
   "source": [
    "import pandas as pd\n",
    "import requests\n",
    "from bs4 import BeautifulSoup\n",
    "\n",
    "headers = {\n",
    "    'User-Agent': 'Mozilla/5.0 (Windows NT 10.0; Win64; x64) AppleWebKit/537.36 (KHTML, like Gecko) Chrome/96.0.4664.110 Safari/537.36'\n",
    "}"
   ]
  },
  {
   "cell_type": "code",
   "execution_count": 5,
   "id": "b4922cc9-6129-4c2d-82d2-1a48fdf46e67",
   "metadata": {},
   "outputs": [
    {
     "data": {
      "text/html": [
       "<div>\n",
       "<style scoped>\n",
       "    .dataframe tbody tr th:only-of-type {\n",
       "        vertical-align: middle;\n",
       "    }\n",
       "\n",
       "    .dataframe tbody tr th {\n",
       "        vertical-align: top;\n",
       "    }\n",
       "\n",
       "    .dataframe thead th {\n",
       "        text-align: right;\n",
       "    }\n",
       "</style>\n",
       "<table border=\"1\" class=\"dataframe\">\n",
       "  <thead>\n",
       "    <tr style=\"text-align: right;\">\n",
       "      <th></th>\n",
       "      <th>movie_nr</th>\n",
       "      <th>title</th>\n",
       "      <th>year</th>\n",
       "      <th>rating</th>\n",
       "      <th>runtime</th>\n",
       "      <th>description</th>\n",
       "      <th>votes</th>\n",
       "    </tr>\n",
       "  </thead>\n",
       "  <tbody>\n",
       "    <tr>\n",
       "      <th>0</th>\n",
       "      <td>1</td>\n",
       "      <td>Kevin - Allein zu Haus</td>\n",
       "      <td>1990</td>\n",
       "      <td>7.7</td>\n",
       "      <td>1h 43m</td>\n",
       "      <td>An eight-year-old troublemaker, mistakenly lef...</td>\n",
       "      <td>(689K)</td>\n",
       "    </tr>\n",
       "    <tr>\n",
       "      <th>1</th>\n",
       "      <td>2</td>\n",
       "      <td>GoodFellas - Drei Jahrzehnte in der Mafia</td>\n",
       "      <td>1990</td>\n",
       "      <td>8.7</td>\n",
       "      <td>2h 25m</td>\n",
       "      <td>The story of Henry Hill and his life in the ma...</td>\n",
       "      <td>(1.3M)</td>\n",
       "    </tr>\n",
       "    <tr>\n",
       "      <th>2</th>\n",
       "      <td>3</td>\n",
       "      <td>Das Schweigen der Lämmer</td>\n",
       "      <td>1991</td>\n",
       "      <td>8.6</td>\n",
       "      <td>1h 58m</td>\n",
       "      <td>A young F.B.I. cadet must receive the help of ...</td>\n",
       "      <td>(1.6M)</td>\n",
       "    </tr>\n",
       "    <tr>\n",
       "      <th>3</th>\n",
       "      <td>4</td>\n",
       "      <td>Terminator 2: Tag der Abrechnung</td>\n",
       "      <td>1991</td>\n",
       "      <td>8.6</td>\n",
       "      <td>2h 17m</td>\n",
       "      <td>A cyborg, identical to the one who failed to k...</td>\n",
       "      <td>(1.2M)</td>\n",
       "    </tr>\n",
       "    <tr>\n",
       "      <th>4</th>\n",
       "      <td>5</td>\n",
       "      <td>Reservoir Dogs - Wilde Hunde</td>\n",
       "      <td>1992</td>\n",
       "      <td>8.3</td>\n",
       "      <td>1h 39m</td>\n",
       "      <td>When a simple jewelry heist goes horribly wron...</td>\n",
       "      <td>(1.1M)</td>\n",
       "    </tr>\n",
       "  </tbody>\n",
       "</table>\n",
       "</div>"
      ],
      "text/plain": [
       "  movie_nr                                      title  year rating runtime  \\\n",
       "0        1                     Kevin - Allein zu Haus  1990    7.7  1h 43m   \n",
       "1        2  GoodFellas - Drei Jahrzehnte in der Mafia  1990    8.7  2h 25m   \n",
       "2        3                   Das Schweigen der Lämmer  1991    8.6  1h 58m   \n",
       "3        4           Terminator 2: Tag der Abrechnung  1991    8.6  2h 17m   \n",
       "4        5               Reservoir Dogs - Wilde Hunde  1992    8.3  1h 39m   \n",
       "\n",
       "                                         description    votes  \n",
       "0  An eight-year-old troublemaker, mistakenly lef...   (689K)  \n",
       "1  The story of Henry Hill and his life in the ma...   (1.3M)  \n",
       "2  A young F.B.I. cadet must receive the help of ...   (1.6M)  \n",
       "3  A cyborg, identical to the one who failed to k...   (1.2M)  \n",
       "4  When a simple jewelry heist goes horribly wron...   (1.1M)  "
      ]
     },
     "execution_count": 5,
     "metadata": {},
     "output_type": "execute_result"
    }
   ],
   "source": [
    "def scrape_imdb(title_type, user_rating, start_date, end_date, limit):\n",
    "    url = f\"https://www.imdb.com/search/title/?title_type={title_type}&release_date={start_date},{end_date}&user_rating={user_rating},\"\n",
    "    response = requests.get(url, headers=headers)\n",
    "    soup = BeautifulSoup(response.content, \"html.parser\")\n",
    "    df = pd.DataFrame(columns = ['movie_nr', 'title', 'year', 'rating', 'runtime', 'description', 'votes'])\n",
    "    \n",
    "    movie_nr_list = []\n",
    "    title_list = []\n",
    "    year_list = []\n",
    "    runtime_list = []\n",
    "    itest = soup.find_all(['div'], attrs={\"class\": ['sc-300a8231-6', 'dBUjvq', 'dli-title-metadata']})[:limit] \n",
    "    \n",
    "    for i in range(len(itest)):\n",
    "        jtest = itest[i].find_all(['span'], attrs={\"class\": ['sc-300a8231-7', 'eaXxft', 'dli-title-metadata-item']})\n",
    "        year_list.append(jtest[0].text)\n",
    "        runtime_list.append(jtest[1].text)\n",
    "\n",
    "    for movie in [movie.get_text() for movie in soup.find_all('h3', class_='ipc-title__text')][:limit]:\n",
    "        parts = movie.split(\". \", 1)\n",
    "        movie_nr_list.append(parts[0])\n",
    "        title_list.append(parts[1])\n",
    "\n",
    "    df['movie_nr'] = movie_nr_list\n",
    "    df['title'] = title_list\n",
    "    df['year'] = year_list\n",
    "    df['rating'] = [movie.get_text() for movie in soup.find_all('span', class_='ipc-rating-star--rating')][:limit]\n",
    "    df['runtime'] = runtime_list\n",
    "    df['description'] = [movie.get_text() for movie in soup.find_all('div', class_='ipc-html-content-inner-div')][:limit]\n",
    "    df['votes'] = [movie.get_text() for movie in soup.find_all('span', class_='ipc-rating-star--voteCount')][:limit]\n",
    "    \n",
    "    return df\n",
    "\n",
    "scrape_imdb('feature', '7.5', '1990-01-01', '1992-12-31', 5)"
   ]
  },
  {
   "cell_type": "code",
   "execution_count": null,
   "id": "53487b8a-deb5-461e-9ee8-7b8c9c0ac1e1",
   "metadata": {},
   "outputs": [],
   "source": []
  }
 ],
 "metadata": {
  "kernelspec": {
   "display_name": "Python [conda env:base] *",
   "language": "python",
   "name": "conda-base-py"
  },
  "language_info": {
   "codemirror_mode": {
    "name": "ipython",
    "version": 3
   },
   "file_extension": ".py",
   "mimetype": "text/x-python",
   "name": "python",
   "nbconvert_exporter": "python",
   "pygments_lexer": "ipython3",
   "version": "3.12.7"
  }
 },
 "nbformat": 4,
 "nbformat_minor": 5
}
